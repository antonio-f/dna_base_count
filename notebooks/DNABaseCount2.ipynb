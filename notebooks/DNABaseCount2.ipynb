{
 "cells": [
  {
   "cell_type": "code",
   "execution_count": 1,
   "id": "52c7d70d",
   "metadata": {},
   "outputs": [],
   "source": [
    "from pyspark.sql import SparkSession"
   ]
  },
  {
   "cell_type": "code",
   "execution_count": 2,
   "id": "dab07fe8",
   "metadata": {},
   "outputs": [],
   "source": [
    "spark = SparkSession.builder\\\n",
    "    .appName('DNABaseCount')\\\n",
    "    .config(\"spark.driver.bindAddress\", \"127.0.0.1\")\\\n",
    "    .getOrCreate()"
   ]
  },
  {
   "cell_type": "markdown",
   "id": "040d0344",
   "metadata": {},
   "source": [
    "### 1. Create an RDD[String] from the Input"
   ]
  },
  {
   "cell_type": "code",
   "execution_count": 3,
   "id": "d661dfac",
   "metadata": {},
   "outputs": [],
   "source": [
    "input_path = \"fasta_example.txt\""
   ]
  },
  {
   "cell_type": "code",
   "execution_count": 4,
   "id": "a860a5d4",
   "metadata": {},
   "outputs": [],
   "source": [
    "records_rdd = records_rdd = spark.sparkContext.textFile(input_path)"
   ]
  },
  {
   "cell_type": "code",
   "execution_count": 5,
   "id": "e7ca9e3f",
   "metadata": {},
   "outputs": [
    {
     "data": {
      "text/plain": [
       "['>Seq1 [organism=Carpodacus mexicanus] [clone=6b] actin (act) mRNA, partial cds',\n",
       " 'CCTTTATCTAATCTTTGGAGCATGAGCTGGCATAGTTGGAACCGCCCTCAGCCTCCTCATCCGTGCAGAA',\n",
       " 'TAATAATTTTCTTTATAGTAATACCAATCATGATCGGTGGTTTCGGAAACTGACTAGTCCCACTCATAAT',\n",
       " '>Seq2 [organism=uncultured bacillus sp.] [isolate=A2] corticotropin (CT) gene, complete cds',\n",
       " 'GGTAGGTACCGCCCTAAGNCTCCTAATCCGAGCAGAACTANGCCAACCCGGAGCCCTTCTGGGAGACGAC',\n",
       " 'TCAACACCACCTTCTTTGACCCAGCAGGAGGAGGAGACCCAGTACTATACCAGCACCTATTCTGATTCTT',\n",
       " '>Seq3 [organism=Phalaenopsis equestris var. leucaspis]',\n",
       " 'CCTATACCTAATTTTCGGCGCATGAGCCGGAATGGTGGGTACCGCTCTAAGCCTCCTCATTCGAGCAGAA',\n",
       " 'CTAGGCCAACCCGGAGCCCTTCTGGGAGACGACCAAGTCTACAACGTGGTTGTCACGGCCCATGCCTTCG',\n",
       " '>Seq9 [organism=Petunia integrifolia subsp. inflata]',\n",
       " 'TAGTTGGAACAGCCCTCAGCCTACTCATCCGAGCAGAACTAGGCCAACCCGGAACCCTCCTGGGAGATGA',\n",
       " 'CCAAATCTACAATGTAATCGTCACTGCCCATGCCTTCGTAATAATCTTCTTCATAGTAATACCAGTCATA']"
      ]
     },
     "execution_count": 5,
     "metadata": {},
     "output_type": "execute_result"
    }
   ],
   "source": [
    "records_rdd.collect()\n"
   ]
  },
  {
   "cell_type": "markdown",
   "id": "76f0dc68",
   "metadata": {},
   "source": [
    "### 2. Define a Mapper Function"
   ]
  },
  {
   "cell_type": "code",
   "execution_count": 9,
   "id": "c90b65b4",
   "metadata": {},
   "outputs": [],
   "source": [
    "from collections import defaultdict\n",
    "# Parameter: fasta_record: String, a single FASTA record\n",
    "# output: a list of (dna_letter, frequency)\n",
    "#\n",
    "def process_FASTA_as_hashmap(fasta_record):\n",
    "    if (fasta_record.startswith(\">\")):\n",
    "        return [(\"seq\", 1)]\n",
    "\n",
    "    hashmap = defaultdict(int)\n",
    "    chars = fasta_record.lower()\n",
    "    for c in chars:\n",
    "        hashmap[c] += 1\n",
    "        #end-for\n",
    "    print(\"hashmap=\", hashmap)\n",
    "\n",
    "    key_value_list = [(k, v) for k, v in hashmap.items()]\n",
    "    print(\"key_value_list=\", key_value_list)\n",
    "    return key_value_list"
   ]
  },
  {
   "cell_type": "code",
   "execution_count": 10,
   "id": "1cb2bee4",
   "metadata": {},
   "outputs": [],
   "source": [
    "pairs_rdd = records_rdd.flatMap(lambda rec: process_FASTA_as_hashmap(rec))"
   ]
  },
  {
   "cell_type": "code",
   "execution_count": 18,
   "id": "0bcad945",
   "metadata": {},
   "outputs": [
    {
     "data": {
      "text/plain": [
       "[('z', 1),\n",
       " ('c', 21),\n",
       " ('t', 19),\n",
       " ('a', 15),\n",
       " ('g', 15),\n",
       " ('t', 25),\n",
       " ('a', 22),\n",
       " ('c', 13),\n",
       " ('g', 10),\n",
       " ('z', 1)]"
      ]
     },
     "execution_count": 18,
     "metadata": {},
     "output_type": "execute_result"
    }
   ],
   "source": [
    "pairs_rdd.take(10)"
   ]
  },
  {
   "cell_type": "markdown",
   "id": "e4eb1f37",
   "metadata": {},
   "source": [
    "### 3. Find the Frequencies of DNA Letters"
   ]
  },
  {
   "cell_type": "code",
   "execution_count": 17,
   "id": "dd3c7a21",
   "metadata": {},
   "outputs": [
    {
     "data": {
      "text/plain": [
       "[('c', 165), ('g', 115), ('z', 4), ('t', 134), ('a', 144), ('n', 2)]"
      ]
     },
     "execution_count": 17,
     "metadata": {},
     "output_type": "execute_result"
    }
   ],
   "source": [
    "frequencies_rdd = pairs_rdd.reduceByKey(lambda x, y: x+y)\n",
    "frequencies_rdd.collect()"
   ]
  }
 ],
 "metadata": {
  "kernelspec": {
   "display_name": "Python 3 (ipykernel)",
   "language": "python",
   "name": "python3"
  },
  "language_info": {
   "codemirror_mode": {
    "name": "ipython",
    "version": 3
   },
   "file_extension": ".py",
   "mimetype": "text/x-python",
   "name": "python",
   "nbconvert_exporter": "python",
   "pygments_lexer": "ipython3",
   "version": "3.10.4"
  },
  "vscode": {
   "interpreter": {
    "hash": "69b211e07474a9e73531081efef24def05b8af1228c67250e2d0156b41196fed"
   }
  }
 },
 "nbformat": 4,
 "nbformat_minor": 5
}
