{
 "cells": [
  {
   "cell_type": "code",
   "execution_count": 1,
   "id": "52c7d70d",
   "metadata": {},
   "outputs": [],
   "source": [
    "from pyspark.sql import SparkSession"
   ]
  },
  {
   "cell_type": "code",
   "execution_count": 2,
   "id": "dab07fe8",
   "metadata": {},
   "outputs": [],
   "source": [
    "spark = SparkSession.builder\\\n",
    "    .appName('DNABaseCount')\\\n",
    "    .config(\"spark.driver.bindAddress\", \"127.0.0.1\")\\\n",
    "    .getOrCreate()"
   ]
  },
  {
   "cell_type": "markdown",
   "id": "040d0344",
   "metadata": {},
   "source": [
    "### 1. Create an RDD[String] from the input"
   ]
  },
  {
   "cell_type": "code",
   "execution_count": 3,
   "id": "d661dfac",
   "metadata": {},
   "outputs": [],
   "source": [
    "input_path = \"fasta_example.txt\""
   ]
  },
  {
   "cell_type": "code",
   "execution_count": 4,
   "id": "e81777b9",
   "metadata": {},
   "outputs": [],
   "source": [
    "    recordsRDD = spark.sparkContext.textFile(input_path)"
   ]
  },
  {
   "cell_type": "code",
   "execution_count": 5,
   "id": "07f3fbbb",
   "metadata": {},
   "outputs": [
    {
     "data": {
      "text/plain": [
       "2"
      ]
     },
     "execution_count": 5,
     "metadata": {},
     "output_type": "execute_result"
    }
   ],
   "source": [
    "# records_rdd.collect()\n",
    "recordsRDD.getNumPartitions()"
   ]
  },
  {
   "cell_type": "markdown",
   "id": "76f0dc68",
   "metadata": {},
   "source": [
    "### 2. Define a function to handle a partition"
   ]
  },
  {
   "cell_type": "code",
   "execution_count": 6,
   "id": "c90b65b4",
   "metadata": {},
   "outputs": [],
   "source": [
    "from collections import defaultdict\n",
    "\n",
    "# This function creates a hash map of DNA Letters\n",
    "# seq: Total number of FASTA Records for a single partition\n",
    "def process_FASTA_partition(iterator):\n",
    "    # returns a (letter, count) list\n",
    "    # iterator: represents a single partition\n",
    "    \n",
    "    # create an empty dictionary\n",
    "    hashmap = defaultdict(int)\n",
    "\n",
    "    for fasta_record in iterator:\n",
    "        if (fasta_record.startswith(\">\")):\n",
    "            hashmap[\"seq\"] += 1\n",
    "        else:\n",
    "            chars = fasta_record.lower()\n",
    "            for c in chars:\n",
    "                hashmap[c] += 1\n",
    "\n",
    "    print(\"hashmap=\", hashmap)\n",
    "    key_value_list = [(k, v) for k, v in hashmap.items()]\n",
    "\n",
    "    return key_value_list\n",
    "    "
   ]
  },
  {
   "cell_type": "markdown",
   "id": "0605b43e",
   "metadata": {},
   "source": [
    "### 3. Apply the custom function to each partition"
   ]
  },
  {
   "cell_type": "code",
   "execution_count": 7,
   "id": "1cb2bee4",
   "metadata": {},
   "outputs": [],
   "source": [
    "    pairsRDD = recordsRDD.mapPartitions(process_FASTA_partition)"
   ]
  },
  {
   "cell_type": "code",
   "execution_count": 12,
   "id": "0bcad945",
   "metadata": {},
   "outputs": [
    {
     "data": {
      "text/plain": [
       "[('seq', 2), ('c', 79), ('t', 71), ('a', 73), ('g', 55)]"
      ]
     },
     "execution_count": 12,
     "metadata": {},
     "output_type": "execute_result"
    }
   ],
   "source": [
    "pairsRDD.take(5)"
   ]
  },
  {
   "cell_type": "markdown",
   "id": "e0047cf7",
   "metadata": {},
   "source": [
    "### 4.  Get the frequencies of DNA letters"
   ]
  },
  {
   "cell_type": "code",
   "execution_count": 9,
   "id": "62ea97a1",
   "metadata": {},
   "outputs": [],
   "source": [
    " frequenciesRDD = pairsRDD.reduceByKey(lambda x, y: x+y)"
   ]
  },
  {
   "cell_type": "code",
   "execution_count": 11,
   "id": "9b8058d2",
   "metadata": {},
   "outputs": [
    {
     "data": {
      "text/plain": [
       "[('seq', 4), ('c', 165), ('g', 115), ('t', 134), ('a', 144), ('n', 2)]"
      ]
     },
     "execution_count": 11,
     "metadata": {},
     "output_type": "execute_result"
    }
   ],
   "source": [
    "frequenciesRDD.collect()"
   ]
  }
 ],
 "metadata": {
  "kernelspec": {
   "display_name": "Python 3 (ipykernel)",
   "language": "python",
   "name": "python3"
  },
  "language_info": {
   "codemirror_mode": {
    "name": "ipython",
    "version": 3
   },
   "file_extension": ".py",
   "mimetype": "text/x-python",
   "name": "python",
   "nbconvert_exporter": "python",
   "pygments_lexer": "ipython3",
   "version": "3.10.4"
  },
  "vscode": {
   "interpreter": {
    "hash": "69b211e07474a9e73531081efef24def05b8af1228c67250e2d0156b41196fed"
   }
  }
 },
 "nbformat": 4,
 "nbformat_minor": 5
}
